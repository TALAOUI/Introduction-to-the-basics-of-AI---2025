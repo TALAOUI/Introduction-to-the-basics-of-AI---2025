{
  "cells": [
    {
      "cell_type": "code",
      "execution_count": 19,
      "metadata": {
        "id": "tSLKA5ly4Pvo"
      },
      "outputs": [],
      "source": [
        "import numpy as np\n",
        "import pandas as pd\n",
        "from sklearn.datasets import load_iris\n",
        "from sklearn.svm import SVC\n",
        "from sklearn.model_selection import GridSearchCV\n",
        "from sklearn.metrics import classification_report, confusion_matrix"
      ]
    },
    {
      "cell_type": "markdown",
      "metadata": {
        "id": "O4vdBlcd4Pvs"
      },
      "source": [
        "## Load Data"
      ]
    },
    {
      "cell_type": "code",
      "execution_count": 3,
      "metadata": {
        "id": "MKHkOatT4Pvu"
      },
      "outputs": [],
      "source": [
        "data = load_iris()"
      ]
    },
    {
      "cell_type": "code",
      "execution_count": 4,
      "metadata": {
        "id": "GI-X2xIz4Pvu"
      },
      "outputs": [],
      "source": [
        "# Convert To DataFrame\n",
        "iris = pd.DataFrame(data.data, columns=data.feature_names)\n",
        "iris['target'] = data.target"
      ]
    },
    {
      "cell_type": "code",
      "execution_count": 5,
      "metadata": {
        "colab": {
          "base_uri": "https://localhost:8080/",
          "height": 206
        },
        "id": "AuxipIeY4Pvv",
        "outputId": "2c5344b3-a5ef-457d-de16-c37cc5819c76"
      },
      "outputs": [
        {
          "output_type": "execute_result",
          "data": {
            "text/plain": [
              "   sepal length (cm)  sepal width (cm)  petal length (cm)  petal width (cm)  \\\n",
              "0                5.1               3.5                1.4               0.2   \n",
              "1                4.9               3.0                1.4               0.2   \n",
              "2                4.7               3.2                1.3               0.2   \n",
              "3                4.6               3.1                1.5               0.2   \n",
              "4                5.0               3.6                1.4               0.2   \n",
              "\n",
              "   target  \n",
              "0       0  \n",
              "1       0  \n",
              "2       0  \n",
              "3       0  \n",
              "4       0  "
            ],
            "text/html": [
              "\n",
              "  <div id=\"df-2dcaad43-495c-4602-b167-187aba52cb7e\" class=\"colab-df-container\">\n",
              "    <div>\n",
              "<style scoped>\n",
              "    .dataframe tbody tr th:only-of-type {\n",
              "        vertical-align: middle;\n",
              "    }\n",
              "\n",
              "    .dataframe tbody tr th {\n",
              "        vertical-align: top;\n",
              "    }\n",
              "\n",
              "    .dataframe thead th {\n",
              "        text-align: right;\n",
              "    }\n",
              "</style>\n",
              "<table border=\"1\" class=\"dataframe\">\n",
              "  <thead>\n",
              "    <tr style=\"text-align: right;\">\n",
              "      <th></th>\n",
              "      <th>sepal length (cm)</th>\n",
              "      <th>sepal width (cm)</th>\n",
              "      <th>petal length (cm)</th>\n",
              "      <th>petal width (cm)</th>\n",
              "      <th>target</th>\n",
              "    </tr>\n",
              "  </thead>\n",
              "  <tbody>\n",
              "    <tr>\n",
              "      <th>0</th>\n",
              "      <td>5.1</td>\n",
              "      <td>3.5</td>\n",
              "      <td>1.4</td>\n",
              "      <td>0.2</td>\n",
              "      <td>0</td>\n",
              "    </tr>\n",
              "    <tr>\n",
              "      <th>1</th>\n",
              "      <td>4.9</td>\n",
              "      <td>3.0</td>\n",
              "      <td>1.4</td>\n",
              "      <td>0.2</td>\n",
              "      <td>0</td>\n",
              "    </tr>\n",
              "    <tr>\n",
              "      <th>2</th>\n",
              "      <td>4.7</td>\n",
              "      <td>3.2</td>\n",
              "      <td>1.3</td>\n",
              "      <td>0.2</td>\n",
              "      <td>0</td>\n",
              "    </tr>\n",
              "    <tr>\n",
              "      <th>3</th>\n",
              "      <td>4.6</td>\n",
              "      <td>3.1</td>\n",
              "      <td>1.5</td>\n",
              "      <td>0.2</td>\n",
              "      <td>0</td>\n",
              "    </tr>\n",
              "    <tr>\n",
              "      <th>4</th>\n",
              "      <td>5.0</td>\n",
              "      <td>3.6</td>\n",
              "      <td>1.4</td>\n",
              "      <td>0.2</td>\n",
              "      <td>0</td>\n",
              "    </tr>\n",
              "  </tbody>\n",
              "</table>\n",
              "</div>\n",
              "    <div class=\"colab-df-buttons\">\n",
              "\n",
              "  <div class=\"colab-df-container\">\n",
              "    <button class=\"colab-df-convert\" onclick=\"convertToInteractive('df-2dcaad43-495c-4602-b167-187aba52cb7e')\"\n",
              "            title=\"Convert this dataframe to an interactive table.\"\n",
              "            style=\"display:none;\">\n",
              "\n",
              "  <svg xmlns=\"http://www.w3.org/2000/svg\" height=\"24px\" viewBox=\"0 -960 960 960\">\n",
              "    <path d=\"M120-120v-720h720v720H120Zm60-500h600v-160H180v160Zm220 220h160v-160H400v160Zm0 220h160v-160H400v160ZM180-400h160v-160H180v160Zm440 0h160v-160H620v160ZM180-180h160v-160H180v160Zm440 0h160v-160H620v160Z\"/>\n",
              "  </svg>\n",
              "    </button>\n",
              "\n",
              "  <style>\n",
              "    .colab-df-container {\n",
              "      display:flex;\n",
              "      gap: 12px;\n",
              "    }\n",
              "\n",
              "    .colab-df-convert {\n",
              "      background-color: #E8F0FE;\n",
              "      border: none;\n",
              "      border-radius: 50%;\n",
              "      cursor: pointer;\n",
              "      display: none;\n",
              "      fill: #1967D2;\n",
              "      height: 32px;\n",
              "      padding: 0 0 0 0;\n",
              "      width: 32px;\n",
              "    }\n",
              "\n",
              "    .colab-df-convert:hover {\n",
              "      background-color: #E2EBFA;\n",
              "      box-shadow: 0px 1px 2px rgba(60, 64, 67, 0.3), 0px 1px 3px 1px rgba(60, 64, 67, 0.15);\n",
              "      fill: #174EA6;\n",
              "    }\n",
              "\n",
              "    .colab-df-buttons div {\n",
              "      margin-bottom: 4px;\n",
              "    }\n",
              "\n",
              "    [theme=dark] .colab-df-convert {\n",
              "      background-color: #3B4455;\n",
              "      fill: #D2E3FC;\n",
              "    }\n",
              "\n",
              "    [theme=dark] .colab-df-convert:hover {\n",
              "      background-color: #434B5C;\n",
              "      box-shadow: 0px 1px 3px 1px rgba(0, 0, 0, 0.15);\n",
              "      filter: drop-shadow(0px 1px 2px rgba(0, 0, 0, 0.3));\n",
              "      fill: #FFFFFF;\n",
              "    }\n",
              "  </style>\n",
              "\n",
              "    <script>\n",
              "      const buttonEl =\n",
              "        document.querySelector('#df-2dcaad43-495c-4602-b167-187aba52cb7e button.colab-df-convert');\n",
              "      buttonEl.style.display =\n",
              "        google.colab.kernel.accessAllowed ? 'block' : 'none';\n",
              "\n",
              "      async function convertToInteractive(key) {\n",
              "        const element = document.querySelector('#df-2dcaad43-495c-4602-b167-187aba52cb7e');\n",
              "        const dataTable =\n",
              "          await google.colab.kernel.invokeFunction('convertToInteractive',\n",
              "                                                    [key], {});\n",
              "        if (!dataTable) return;\n",
              "\n",
              "        const docLinkHtml = 'Like what you see? Visit the ' +\n",
              "          '<a target=\"_blank\" href=https://colab.research.google.com/notebooks/data_table.ipynb>data table notebook</a>'\n",
              "          + ' to learn more about interactive tables.';\n",
              "        element.innerHTML = '';\n",
              "        dataTable['output_type'] = 'display_data';\n",
              "        await google.colab.output.renderOutput(dataTable, element);\n",
              "        const docLink = document.createElement('div');\n",
              "        docLink.innerHTML = docLinkHtml;\n",
              "        element.appendChild(docLink);\n",
              "      }\n",
              "    </script>\n",
              "  </div>\n",
              "\n",
              "\n",
              "<div id=\"df-4e325f67-6e99-4679-949d-2d1e2740d5f2\">\n",
              "  <button class=\"colab-df-quickchart\" onclick=\"quickchart('df-4e325f67-6e99-4679-949d-2d1e2740d5f2')\"\n",
              "            title=\"Suggest charts\"\n",
              "            style=\"display:none;\">\n",
              "\n",
              "<svg xmlns=\"http://www.w3.org/2000/svg\" height=\"24px\"viewBox=\"0 0 24 24\"\n",
              "     width=\"24px\">\n",
              "    <g>\n",
              "        <path d=\"M19 3H5c-1.1 0-2 .9-2 2v14c0 1.1.9 2 2 2h14c1.1 0 2-.9 2-2V5c0-1.1-.9-2-2-2zM9 17H7v-7h2v7zm4 0h-2V7h2v10zm4 0h-2v-4h2v4z\"/>\n",
              "    </g>\n",
              "</svg>\n",
              "  </button>\n",
              "\n",
              "<style>\n",
              "  .colab-df-quickchart {\n",
              "      --bg-color: #E8F0FE;\n",
              "      --fill-color: #1967D2;\n",
              "      --hover-bg-color: #E2EBFA;\n",
              "      --hover-fill-color: #174EA6;\n",
              "      --disabled-fill-color: #AAA;\n",
              "      --disabled-bg-color: #DDD;\n",
              "  }\n",
              "\n",
              "  [theme=dark] .colab-df-quickchart {\n",
              "      --bg-color: #3B4455;\n",
              "      --fill-color: #D2E3FC;\n",
              "      --hover-bg-color: #434B5C;\n",
              "      --hover-fill-color: #FFFFFF;\n",
              "      --disabled-bg-color: #3B4455;\n",
              "      --disabled-fill-color: #666;\n",
              "  }\n",
              "\n",
              "  .colab-df-quickchart {\n",
              "    background-color: var(--bg-color);\n",
              "    border: none;\n",
              "    border-radius: 50%;\n",
              "    cursor: pointer;\n",
              "    display: none;\n",
              "    fill: var(--fill-color);\n",
              "    height: 32px;\n",
              "    padding: 0;\n",
              "    width: 32px;\n",
              "  }\n",
              "\n",
              "  .colab-df-quickchart:hover {\n",
              "    background-color: var(--hover-bg-color);\n",
              "    box-shadow: 0 1px 2px rgba(60, 64, 67, 0.3), 0 1px 3px 1px rgba(60, 64, 67, 0.15);\n",
              "    fill: var(--button-hover-fill-color);\n",
              "  }\n",
              "\n",
              "  .colab-df-quickchart-complete:disabled,\n",
              "  .colab-df-quickchart-complete:disabled:hover {\n",
              "    background-color: var(--disabled-bg-color);\n",
              "    fill: var(--disabled-fill-color);\n",
              "    box-shadow: none;\n",
              "  }\n",
              "\n",
              "  .colab-df-spinner {\n",
              "    border: 2px solid var(--fill-color);\n",
              "    border-color: transparent;\n",
              "    border-bottom-color: var(--fill-color);\n",
              "    animation:\n",
              "      spin 1s steps(1) infinite;\n",
              "  }\n",
              "\n",
              "  @keyframes spin {\n",
              "    0% {\n",
              "      border-color: transparent;\n",
              "      border-bottom-color: var(--fill-color);\n",
              "      border-left-color: var(--fill-color);\n",
              "    }\n",
              "    20% {\n",
              "      border-color: transparent;\n",
              "      border-left-color: var(--fill-color);\n",
              "      border-top-color: var(--fill-color);\n",
              "    }\n",
              "    30% {\n",
              "      border-color: transparent;\n",
              "      border-left-color: var(--fill-color);\n",
              "      border-top-color: var(--fill-color);\n",
              "      border-right-color: var(--fill-color);\n",
              "    }\n",
              "    40% {\n",
              "      border-color: transparent;\n",
              "      border-right-color: var(--fill-color);\n",
              "      border-top-color: var(--fill-color);\n",
              "    }\n",
              "    60% {\n",
              "      border-color: transparent;\n",
              "      border-right-color: var(--fill-color);\n",
              "    }\n",
              "    80% {\n",
              "      border-color: transparent;\n",
              "      border-right-color: var(--fill-color);\n",
              "      border-bottom-color: var(--fill-color);\n",
              "    }\n",
              "    90% {\n",
              "      border-color: transparent;\n",
              "      border-bottom-color: var(--fill-color);\n",
              "    }\n",
              "  }\n",
              "</style>\n",
              "\n",
              "  <script>\n",
              "    async function quickchart(key) {\n",
              "      const quickchartButtonEl =\n",
              "        document.querySelector('#' + key + ' button');\n",
              "      quickchartButtonEl.disabled = true;  // To prevent multiple clicks.\n",
              "      quickchartButtonEl.classList.add('colab-df-spinner');\n",
              "      try {\n",
              "        const charts = await google.colab.kernel.invokeFunction(\n",
              "            'suggestCharts', [key], {});\n",
              "      } catch (error) {\n",
              "        console.error('Error during call to suggestCharts:', error);\n",
              "      }\n",
              "      quickchartButtonEl.classList.remove('colab-df-spinner');\n",
              "      quickchartButtonEl.classList.add('colab-df-quickchart-complete');\n",
              "    }\n",
              "    (() => {\n",
              "      let quickchartButtonEl =\n",
              "        document.querySelector('#df-4e325f67-6e99-4679-949d-2d1e2740d5f2 button');\n",
              "      quickchartButtonEl.style.display =\n",
              "        google.colab.kernel.accessAllowed ? 'block' : 'none';\n",
              "    })();\n",
              "  </script>\n",
              "</div>\n",
              "\n",
              "    </div>\n",
              "  </div>\n"
            ],
            "application/vnd.google.colaboratory.intrinsic+json": {
              "type": "dataframe",
              "variable_name": "iris",
              "summary": "{\n  \"name\": \"iris\",\n  \"rows\": 150,\n  \"fields\": [\n    {\n      \"column\": \"sepal length (cm)\",\n      \"properties\": {\n        \"dtype\": \"number\",\n        \"std\": 0.828066127977863,\n        \"min\": 4.3,\n        \"max\": 7.9,\n        \"num_unique_values\": 35,\n        \"samples\": [\n          6.2,\n          4.5,\n          5.6\n        ],\n        \"semantic_type\": \"\",\n        \"description\": \"\"\n      }\n    },\n    {\n      \"column\": \"sepal width (cm)\",\n      \"properties\": {\n        \"dtype\": \"number\",\n        \"std\": 0.4358662849366982,\n        \"min\": 2.0,\n        \"max\": 4.4,\n        \"num_unique_values\": 23,\n        \"samples\": [\n          2.3,\n          4.0,\n          3.5\n        ],\n        \"semantic_type\": \"\",\n        \"description\": \"\"\n      }\n    },\n    {\n      \"column\": \"petal length (cm)\",\n      \"properties\": {\n        \"dtype\": \"number\",\n        \"std\": 1.7652982332594662,\n        \"min\": 1.0,\n        \"max\": 6.9,\n        \"num_unique_values\": 43,\n        \"samples\": [\n          6.7,\n          3.8,\n          3.7\n        ],\n        \"semantic_type\": \"\",\n        \"description\": \"\"\n      }\n    },\n    {\n      \"column\": \"petal width (cm)\",\n      \"properties\": {\n        \"dtype\": \"number\",\n        \"std\": 0.7622376689603465,\n        \"min\": 0.1,\n        \"max\": 2.5,\n        \"num_unique_values\": 22,\n        \"samples\": [\n          0.2,\n          1.2,\n          1.3\n        ],\n        \"semantic_type\": \"\",\n        \"description\": \"\"\n      }\n    },\n    {\n      \"column\": \"target\",\n      \"properties\": {\n        \"dtype\": \"number\",\n        \"std\": 0,\n        \"min\": 0,\n        \"max\": 2,\n        \"num_unique_values\": 3,\n        \"samples\": [\n          0,\n          1,\n          2\n        ],\n        \"semantic_type\": \"\",\n        \"description\": \"\"\n      }\n    }\n  ]\n}"
            }
          },
          "metadata": {},
          "execution_count": 5
        }
      ],
      "source": [
        "iris.head()"
      ]
    },
    {
      "cell_type": "markdown",
      "metadata": {
        "id": "mBNFlp0A4Pvw"
      },
      "source": [
        "## Create Model"
      ]
    },
    {
      "cell_type": "code",
      "execution_count": 6,
      "metadata": {
        "id": "adBRXD9n4Pvw"
      },
      "outputs": [],
      "source": [
        "svc = SVC()"
      ]
    },
    {
      "cell_type": "markdown",
      "metadata": {
        "id": "qXbbq-St4Pvx"
      },
      "source": [
        "# Data => Train and Test"
      ]
    },
    {
      "cell_type": "code",
      "execution_count": 8,
      "metadata": {
        "id": "iCjOja_m4Pvx"
      },
      "outputs": [],
      "source": [
        "from sklearn.model_selection import train_test_split"
      ]
    },
    {
      "cell_type": "code",
      "execution_count": 9,
      "metadata": {
        "id": "SvEa3faE4Pvy"
      },
      "outputs": [],
      "source": [
        "X = iris[['sepal length (cm)', 'sepal width (cm)', 'petal length (cm)',\n",
        "       'petal width (cm)']]\n",
        "y = iris.target"
      ]
    },
    {
      "cell_type": "code",
      "execution_count": 10,
      "metadata": {
        "id": "KpMDoDyP4Pvy"
      },
      "outputs": [],
      "source": [
        "X_train, X_test, y_train, y_test = train_test_split(X, y, random_state=42, test_size=0.3)"
      ]
    },
    {
      "cell_type": "markdown",
      "metadata": {
        "id": "V441T3JR4Pvz"
      },
      "source": [
        "### Set parameter for SVM\n",
        "#### gamma =  [0.1, 0.01, 0.001, 0.0001]\n",
        "#### C           =  [ 1, 10, 100, 1000 ]\n",
        "#### kernel = Linear"
      ]
    },
    {
      "cell_type": "code",
      "execution_count": 22,
      "metadata": {
        "id": "6wNQVYjo4Pvz"
      },
      "outputs": [],
      "source": [
        "param_grid = {'C':(1, 10, 100), 'gamma':(0.1, 0.01, 0.001)}"
      ]
    },
    {
      "cell_type": "code",
      "execution_count": 23,
      "metadata": {
        "colab": {
          "base_uri": "https://localhost:8080/"
        },
        "id": "1mVrwyJ34Pvz",
        "outputId": "159d0974-70cb-4284-9c90-1d80027e4ad2"
      },
      "outputs": [
        {
          "output_type": "execute_result",
          "data": {
            "text/plain": [
              "{'C': (1, 10, 100), 'gamma': (0.1, 0.01, 0.001)}"
            ]
          },
          "metadata": {},
          "execution_count": 23
        }
      ],
      "source": [
        "param_grid"
      ]
    },
    {
      "cell_type": "code",
      "execution_count": 24,
      "metadata": {
        "id": "-2mEKQZR4Pvz"
      },
      "outputs": [],
      "source": [
        "grid_search = GridSearchCV(svc, param_grid, cv=10, verbose=10)"
      ]
    },
    {
      "cell_type": "code",
      "execution_count": 25,
      "metadata": {
        "colab": {
          "base_uri": "https://localhost:8080/",
          "height": 1000
        },
        "id": "wN6Cyids4Pvz",
        "outputId": "3239e86d-e728-44ff-d120-f1551e877d0f"
      },
      "outputs": [
        {
          "output_type": "stream",
          "name": "stdout",
          "text": [
            "Fitting 10 folds for each of 9 candidates, totalling 90 fits\n",
            "[CV 1/10; 1/9] START C=1, gamma=0.1.............................................\n",
            "[CV 1/10; 1/9] END ..............C=1, gamma=0.1;, score=1.000 total time=   0.0s\n",
            "[CV 2/10; 1/9] START C=1, gamma=0.1.............................................\n",
            "[CV 2/10; 1/9] END ..............C=1, gamma=0.1;, score=1.000 total time=   0.0s\n",
            "[CV 3/10; 1/9] START C=1, gamma=0.1.............................................\n",
            "[CV 3/10; 1/9] END ..............C=1, gamma=0.1;, score=1.000 total time=   0.0s\n",
            "[CV 4/10; 1/9] START C=1, gamma=0.1.............................................\n",
            "[CV 4/10; 1/9] END ..............C=1, gamma=0.1;, score=0.818 total time=   0.0s\n",
            "[CV 5/10; 1/9] START C=1, gamma=0.1.............................................\n",
            "[CV 5/10; 1/9] END ..............C=1, gamma=0.1;, score=0.818 total time=   0.0s\n",
            "[CV 6/10; 1/9] START C=1, gamma=0.1.............................................\n",
            "[CV 6/10; 1/9] END ..............C=1, gamma=0.1;, score=1.000 total time=   0.0s\n",
            "[CV 7/10; 1/9] START C=1, gamma=0.1.............................................\n",
            "[CV 7/10; 1/9] END ..............C=1, gamma=0.1;, score=1.000 total time=   0.0s\n",
            "[CV 8/10; 1/9] START C=1, gamma=0.1.............................................\n",
            "[CV 8/10; 1/9] END ..............C=1, gamma=0.1;, score=1.000 total time=   0.0s\n",
            "[CV 9/10; 1/9] START C=1, gamma=0.1.............................................\n",
            "[CV 9/10; 1/9] END ..............C=1, gamma=0.1;, score=1.000 total time=   0.0s\n",
            "[CV 10/10; 1/9] START C=1, gamma=0.1............................................\n",
            "[CV 10/10; 1/9] END .............C=1, gamma=0.1;, score=0.900 total time=   0.0s\n",
            "[CV 1/10; 2/9] START C=1, gamma=0.01............................................\n",
            "[CV 1/10; 2/9] END .............C=1, gamma=0.01;, score=1.000 total time=   0.0s\n",
            "[CV 2/10; 2/9] START C=1, gamma=0.01............................................\n",
            "[CV 2/10; 2/9] END .............C=1, gamma=0.01;, score=1.000 total time=   0.0s\n",
            "[CV 3/10; 2/9] START C=1, gamma=0.01............................................\n",
            "[CV 3/10; 2/9] END .............C=1, gamma=0.01;, score=0.909 total time=   0.0s\n",
            "[CV 4/10; 2/9] START C=1, gamma=0.01............................................\n",
            "[CV 4/10; 2/9] END .............C=1, gamma=0.01;, score=0.909 total time=   0.0s\n",
            "[CV 5/10; 2/9] START C=1, gamma=0.01............................................\n",
            "[CV 5/10; 2/9] END .............C=1, gamma=0.01;, score=0.818 total time=   0.0s\n",
            "[CV 6/10; 2/9] START C=1, gamma=0.01............................................\n",
            "[CV 6/10; 2/9] END .............C=1, gamma=0.01;, score=0.900 total time=   0.0s\n",
            "[CV 7/10; 2/9] START C=1, gamma=0.01............................................\n",
            "[CV 7/10; 2/9] END .............C=1, gamma=0.01;, score=1.000 total time=   0.0s\n",
            "[CV 8/10; 2/9] START C=1, gamma=0.01............................................\n",
            "[CV 8/10; 2/9] END .............C=1, gamma=0.01;, score=1.000 total time=   0.0s\n",
            "[CV 9/10; 2/9] START C=1, gamma=0.01............................................\n",
            "[CV 9/10; 2/9] END .............C=1, gamma=0.01;, score=0.900 total time=   0.0s\n",
            "[CV 10/10; 2/9] START C=1, gamma=0.01...........................................\n",
            "[CV 10/10; 2/9] END ............C=1, gamma=0.01;, score=0.800 total time=   0.0s\n",
            "[CV 1/10; 3/9] START C=1, gamma=0.001...........................................\n",
            "[CV 1/10; 3/9] END ............C=1, gamma=0.001;, score=0.727 total time=   0.0s\n",
            "[CV 2/10; 3/9] START C=1, gamma=0.001...........................................\n",
            "[CV 2/10; 3/9] END ............C=1, gamma=0.001;, score=0.727 total time=   0.0s\n",
            "[CV 3/10; 3/9] START C=1, gamma=0.001...........................................\n",
            "[CV 3/10; 3/9] END ............C=1, gamma=0.001;, score=0.545 total time=   0.0s\n",
            "[CV 4/10; 3/9] START C=1, gamma=0.001...........................................\n",
            "[CV 4/10; 3/9] END ............C=1, gamma=0.001;, score=0.636 total time=   0.0s\n",
            "[CV 5/10; 3/9] START C=1, gamma=0.001...........................................\n",
            "[CV 5/10; 3/9] END ............C=1, gamma=0.001;, score=0.636 total time=   0.0s\n",
            "[CV 6/10; 3/9] START C=1, gamma=0.001...........................................\n",
            "[CV 6/10; 3/9] END ............C=1, gamma=0.001;, score=0.600 total time=   0.0s\n",
            "[CV 7/10; 3/9] START C=1, gamma=0.001...........................................\n",
            "[CV 7/10; 3/9] END ............C=1, gamma=0.001;, score=0.600 total time=   0.0s\n",
            "[CV 8/10; 3/9] START C=1, gamma=0.001...........................................\n",
            "[CV 8/10; 3/9] END ............C=1, gamma=0.001;, score=0.300 total time=   0.0s\n",
            "[CV 9/10; 3/9] START C=1, gamma=0.001...........................................\n",
            "[CV 9/10; 3/9] END ............C=1, gamma=0.001;, score=0.300 total time=   0.0s\n",
            "[CV 10/10; 3/9] START C=1, gamma=0.001..........................................\n",
            "[CV 10/10; 3/9] END ...........C=1, gamma=0.001;, score=0.300 total time=   0.0s\n",
            "[CV 1/10; 4/9] START C=10, gamma=0.1............................................\n",
            "[CV 1/10; 4/9] END .............C=10, gamma=0.1;, score=1.000 total time=   0.0s\n",
            "[CV 2/10; 4/9] START C=10, gamma=0.1............................................\n",
            "[CV 2/10; 4/9] END .............C=10, gamma=0.1;, score=1.000 total time=   0.0s\n",
            "[CV 3/10; 4/9] START C=10, gamma=0.1............................................\n",
            "[CV 3/10; 4/9] END .............C=10, gamma=0.1;, score=1.000 total time=   0.0s\n",
            "[CV 4/10; 4/9] START C=10, gamma=0.1............................................\n",
            "[CV 4/10; 4/9] END .............C=10, gamma=0.1;, score=0.909 total time=   0.0s\n",
            "[CV 5/10; 4/9] START C=10, gamma=0.1............................................\n",
            "[CV 5/10; 4/9] END .............C=10, gamma=0.1;, score=0.818 total time=   0.0s\n",
            "[CV 6/10; 4/9] START C=10, gamma=0.1............................................\n",
            "[CV 6/10; 4/9] END .............C=10, gamma=0.1;, score=1.000 total time=   0.0s\n",
            "[CV 7/10; 4/9] START C=10, gamma=0.1............................................\n",
            "[CV 7/10; 4/9] END .............C=10, gamma=0.1;, score=1.000 total time=   0.0s\n",
            "[CV 8/10; 4/9] START C=10, gamma=0.1............................................\n",
            "[CV 8/10; 4/9] END .............C=10, gamma=0.1;, score=1.000 total time=   0.0s\n",
            "[CV 9/10; 4/9] START C=10, gamma=0.1............................................\n",
            "[CV 9/10; 4/9] END .............C=10, gamma=0.1;, score=1.000 total time=   0.0s\n",
            "[CV 10/10; 4/9] START C=10, gamma=0.1...........................................\n",
            "[CV 10/10; 4/9] END ............C=10, gamma=0.1;, score=1.000 total time=   0.0s\n",
            "[CV 1/10; 5/9] START C=10, gamma=0.01...........................................\n",
            "[CV 1/10; 5/9] END ............C=10, gamma=0.01;, score=1.000 total time=   0.0s\n",
            "[CV 2/10; 5/9] START C=10, gamma=0.01...........................................\n",
            "[CV 2/10; 5/9] END ............C=10, gamma=0.01;, score=1.000 total time=   0.0s\n",
            "[CV 3/10; 5/9] START C=10, gamma=0.01...........................................\n",
            "[CV 3/10; 5/9] END ............C=10, gamma=0.01;, score=1.000 total time=   0.0s\n",
            "[CV 4/10; 5/9] START C=10, gamma=0.01...........................................\n",
            "[CV 4/10; 5/9] END ............C=10, gamma=0.01;, score=0.818 total time=   0.0s\n",
            "[CV 5/10; 5/9] START C=10, gamma=0.01...........................................\n",
            "[CV 5/10; 5/9] END ............C=10, gamma=0.01;, score=0.818 total time=   0.0s\n",
            "[CV 6/10; 5/9] START C=10, gamma=0.01...........................................\n",
            "[CV 6/10; 5/9] END ............C=10, gamma=0.01;, score=1.000 total time=   0.0s\n",
            "[CV 7/10; 5/9] START C=10, gamma=0.01...........................................\n",
            "[CV 7/10; 5/9] END ............C=10, gamma=0.01;, score=1.000 total time=   0.0s\n",
            "[CV 8/10; 5/9] START C=10, gamma=0.01...........................................\n",
            "[CV 8/10; 5/9] END ............C=10, gamma=0.01;, score=1.000 total time=   0.0s\n",
            "[CV 9/10; 5/9] START C=10, gamma=0.01...........................................\n",
            "[CV 9/10; 5/9] END ............C=10, gamma=0.01;, score=1.000 total time=   0.0s\n",
            "[CV 10/10; 5/9] START C=10, gamma=0.01..........................................\n",
            "[CV 10/10; 5/9] END ...........C=10, gamma=0.01;, score=0.900 total time=   0.0s\n",
            "[CV 1/10; 6/9] START C=10, gamma=0.001..........................................\n",
            "[CV 1/10; 6/9] END ...........C=10, gamma=0.001;, score=1.000 total time=   0.0s\n",
            "[CV 2/10; 6/9] START C=10, gamma=0.001..........................................\n",
            "[CV 2/10; 6/9] END ...........C=10, gamma=0.001;, score=1.000 total time=   0.0s\n",
            "[CV 3/10; 6/9] START C=10, gamma=0.001..........................................\n",
            "[CV 3/10; 6/9] END ...........C=10, gamma=0.001;, score=0.909 total time=   0.0s\n",
            "[CV 4/10; 6/9] START C=10, gamma=0.001..........................................\n",
            "[CV 4/10; 6/9] END ...........C=10, gamma=0.001;, score=0.909 total time=   0.0s\n",
            "[CV 5/10; 6/9] START C=10, gamma=0.001..........................................\n",
            "[CV 5/10; 6/9] END ...........C=10, gamma=0.001;, score=0.818 total time=   0.0s\n",
            "[CV 6/10; 6/9] START C=10, gamma=0.001..........................................\n",
            "[CV 6/10; 6/9] END ...........C=10, gamma=0.001;, score=0.900 total time=   0.0s\n",
            "[CV 7/10; 6/9] START C=10, gamma=0.001..........................................\n",
            "[CV 7/10; 6/9] END ...........C=10, gamma=0.001;, score=1.000 total time=   0.0s\n",
            "[CV 8/10; 6/9] START C=10, gamma=0.001..........................................\n",
            "[CV 8/10; 6/9] END ...........C=10, gamma=0.001;, score=1.000 total time=   0.0s\n",
            "[CV 9/10; 6/9] START C=10, gamma=0.001..........................................\n",
            "[CV 9/10; 6/9] END ...........C=10, gamma=0.001;, score=0.900 total time=   0.0s\n",
            "[CV 10/10; 6/9] START C=10, gamma=0.001.........................................\n",
            "[CV 10/10; 6/9] END ..........C=10, gamma=0.001;, score=0.800 total time=   0.0s\n",
            "[CV 1/10; 7/9] START C=100, gamma=0.1...........................................\n",
            "[CV 1/10; 7/9] END ............C=100, gamma=0.1;, score=0.909 total time=   0.0s\n",
            "[CV 2/10; 7/9] START C=100, gamma=0.1...........................................\n",
            "[CV 2/10; 7/9] END ............C=100, gamma=0.1;, score=1.000 total time=   0.0s\n",
            "[CV 3/10; 7/9] START C=100, gamma=0.1...........................................\n",
            "[CV 3/10; 7/9] END ............C=100, gamma=0.1;, score=1.000 total time=   0.0s\n",
            "[CV 4/10; 7/9] START C=100, gamma=0.1...........................................\n",
            "[CV 4/10; 7/9] END ............C=100, gamma=0.1;, score=0.818 total time=   0.0s\n",
            "[CV 5/10; 7/9] START C=100, gamma=0.1...........................................\n",
            "[CV 5/10; 7/9] END ............C=100, gamma=0.1;, score=0.818 total time=   0.0s\n",
            "[CV 6/10; 7/9] START C=100, gamma=0.1...........................................\n",
            "[CV 6/10; 7/9] END ............C=100, gamma=0.1;, score=0.900 total time=   0.0s\n",
            "[CV 7/10; 7/9] START C=100, gamma=0.1...........................................\n",
            "[CV 7/10; 7/9] END ............C=100, gamma=0.1;, score=1.000 total time=   0.0s\n",
            "[CV 8/10; 7/9] START C=100, gamma=0.1...........................................\n",
            "[CV 8/10; 7/9] END ............C=100, gamma=0.1;, score=1.000 total time=   0.0s\n",
            "[CV 9/10; 7/9] START C=100, gamma=0.1...........................................\n",
            "[CV 9/10; 7/9] END ............C=100, gamma=0.1;, score=1.000 total time=   0.0s\n",
            "[CV 10/10; 7/9] START C=100, gamma=0.1..........................................\n",
            "[CV 10/10; 7/9] END ...........C=100, gamma=0.1;, score=1.000 total time=   0.0s\n",
            "[CV 1/10; 8/9] START C=100, gamma=0.01..........................................\n",
            "[CV 1/10; 8/9] END ...........C=100, gamma=0.01;, score=1.000 total time=   0.0s\n",
            "[CV 2/10; 8/9] START C=100, gamma=0.01..........................................\n",
            "[CV 2/10; 8/9] END ...........C=100, gamma=0.01;, score=1.000 total time=   0.0s\n",
            "[CV 3/10; 8/9] START C=100, gamma=0.01..........................................\n",
            "[CV 3/10; 8/9] END ...........C=100, gamma=0.01;, score=1.000 total time=   0.0s\n",
            "[CV 4/10; 8/9] START C=100, gamma=0.01..........................................\n",
            "[CV 4/10; 8/9] END ...........C=100, gamma=0.01;, score=0.909 total time=   0.0s\n",
            "[CV 5/10; 8/9] START C=100, gamma=0.01..........................................\n",
            "[CV 5/10; 8/9] END ...........C=100, gamma=0.01;, score=0.818 total time=   0.0s\n",
            "[CV 6/10; 8/9] START C=100, gamma=0.01..........................................\n",
            "[CV 6/10; 8/9] END ...........C=100, gamma=0.01;, score=1.000 total time=   0.0s\n",
            "[CV 7/10; 8/9] START C=100, gamma=0.01..........................................\n",
            "[CV 7/10; 8/9] END ...........C=100, gamma=0.01;, score=1.000 total time=   0.0s\n",
            "[CV 8/10; 8/9] START C=100, gamma=0.01..........................................\n",
            "[CV 8/10; 8/9] END ...........C=100, gamma=0.01;, score=1.000 total time=   0.0s\n",
            "[CV 9/10; 8/9] START C=100, gamma=0.01..........................................\n",
            "[CV 9/10; 8/9] END ...........C=100, gamma=0.01;, score=1.000 total time=   0.0s\n",
            "[CV 10/10; 8/9] START C=100, gamma=0.01.........................................\n",
            "[CV 10/10; 8/9] END ..........C=100, gamma=0.01;, score=1.000 total time=   0.0s\n",
            "[CV 1/10; 9/9] START C=100, gamma=0.001.........................................\n",
            "[CV 1/10; 9/9] END ..........C=100, gamma=0.001;, score=1.000 total time=   0.0s\n",
            "[CV 2/10; 9/9] START C=100, gamma=0.001.........................................\n",
            "[CV 2/10; 9/9] END ..........C=100, gamma=0.001;, score=1.000 total time=   0.0s\n",
            "[CV 3/10; 9/9] START C=100, gamma=0.001.........................................\n",
            "[CV 3/10; 9/9] END ..........C=100, gamma=0.001;, score=1.000 total time=   0.0s\n",
            "[CV 4/10; 9/9] START C=100, gamma=0.001.........................................\n",
            "[CV 4/10; 9/9] END ..........C=100, gamma=0.001;, score=0.818 total time=   0.0s\n",
            "[CV 5/10; 9/9] START C=100, gamma=0.001.........................................\n",
            "[CV 5/10; 9/9] END ..........C=100, gamma=0.001;, score=0.818 total time=   0.0s\n",
            "[CV 6/10; 9/9] START C=100, gamma=0.001.........................................\n",
            "[CV 6/10; 9/9] END ..........C=100, gamma=0.001;, score=1.000 total time=   0.0s\n",
            "[CV 7/10; 9/9] START C=100, gamma=0.001.........................................\n",
            "[CV 7/10; 9/9] END ..........C=100, gamma=0.001;, score=1.000 total time=   0.0s\n",
            "[CV 8/10; 9/9] START C=100, gamma=0.001.........................................\n",
            "[CV 8/10; 9/9] END ..........C=100, gamma=0.001;, score=1.000 total time=   0.0s\n",
            "[CV 9/10; 9/9] START C=100, gamma=0.001.........................................\n",
            "[CV 9/10; 9/9] END ..........C=100, gamma=0.001;, score=1.000 total time=   0.0s\n",
            "[CV 10/10; 9/9] START C=100, gamma=0.001........................................\n",
            "[CV 10/10; 9/9] END .........C=100, gamma=0.001;, score=0.900 total time=   0.0s\n"
          ]
        },
        {
          "output_type": "execute_result",
          "data": {
            "text/plain": [
              "GridSearchCV(cv=10, estimator=SVC(),\n",
              "             param_grid={'C': (1, 10, 100), 'gamma': (0.1, 0.01, 0.001)},\n",
              "             verbose=10)"
            ],
            "text/html": [
              "<style>#sk-container-id-2 {color: black;background-color: white;}#sk-container-id-2 pre{padding: 0;}#sk-container-id-2 div.sk-toggleable {background-color: white;}#sk-container-id-2 label.sk-toggleable__label {cursor: pointer;display: block;width: 100%;margin-bottom: 0;padding: 0.3em;box-sizing: border-box;text-align: center;}#sk-container-id-2 label.sk-toggleable__label-arrow:before {content: \"▸\";float: left;margin-right: 0.25em;color: #696969;}#sk-container-id-2 label.sk-toggleable__label-arrow:hover:before {color: black;}#sk-container-id-2 div.sk-estimator:hover label.sk-toggleable__label-arrow:before {color: black;}#sk-container-id-2 div.sk-toggleable__content {max-height: 0;max-width: 0;overflow: hidden;text-align: left;background-color: #f0f8ff;}#sk-container-id-2 div.sk-toggleable__content pre {margin: 0.2em;color: black;border-radius: 0.25em;background-color: #f0f8ff;}#sk-container-id-2 input.sk-toggleable__control:checked~div.sk-toggleable__content {max-height: 200px;max-width: 100%;overflow: auto;}#sk-container-id-2 input.sk-toggleable__control:checked~label.sk-toggleable__label-arrow:before {content: \"▾\";}#sk-container-id-2 div.sk-estimator input.sk-toggleable__control:checked~label.sk-toggleable__label {background-color: #d4ebff;}#sk-container-id-2 div.sk-label input.sk-toggleable__control:checked~label.sk-toggleable__label {background-color: #d4ebff;}#sk-container-id-2 input.sk-hidden--visually {border: 0;clip: rect(1px 1px 1px 1px);clip: rect(1px, 1px, 1px, 1px);height: 1px;margin: -1px;overflow: hidden;padding: 0;position: absolute;width: 1px;}#sk-container-id-2 div.sk-estimator {font-family: monospace;background-color: #f0f8ff;border: 1px dotted black;border-radius: 0.25em;box-sizing: border-box;margin-bottom: 0.5em;}#sk-container-id-2 div.sk-estimator:hover {background-color: #d4ebff;}#sk-container-id-2 div.sk-parallel-item::after {content: \"\";width: 100%;border-bottom: 1px solid gray;flex-grow: 1;}#sk-container-id-2 div.sk-label:hover label.sk-toggleable__label {background-color: #d4ebff;}#sk-container-id-2 div.sk-serial::before {content: \"\";position: absolute;border-left: 1px solid gray;box-sizing: border-box;top: 0;bottom: 0;left: 50%;z-index: 0;}#sk-container-id-2 div.sk-serial {display: flex;flex-direction: column;align-items: center;background-color: white;padding-right: 0.2em;padding-left: 0.2em;position: relative;}#sk-container-id-2 div.sk-item {position: relative;z-index: 1;}#sk-container-id-2 div.sk-parallel {display: flex;align-items: stretch;justify-content: center;background-color: white;position: relative;}#sk-container-id-2 div.sk-item::before, #sk-container-id-2 div.sk-parallel-item::before {content: \"\";position: absolute;border-left: 1px solid gray;box-sizing: border-box;top: 0;bottom: 0;left: 50%;z-index: -1;}#sk-container-id-2 div.sk-parallel-item {display: flex;flex-direction: column;z-index: 1;position: relative;background-color: white;}#sk-container-id-2 div.sk-parallel-item:first-child::after {align-self: flex-end;width: 50%;}#sk-container-id-2 div.sk-parallel-item:last-child::after {align-self: flex-start;width: 50%;}#sk-container-id-2 div.sk-parallel-item:only-child::after {width: 0;}#sk-container-id-2 div.sk-dashed-wrapped {border: 1px dashed gray;margin: 0 0.4em 0.5em 0.4em;box-sizing: border-box;padding-bottom: 0.4em;background-color: white;}#sk-container-id-2 div.sk-label label {font-family: monospace;font-weight: bold;display: inline-block;line-height: 1.2em;}#sk-container-id-2 div.sk-label-container {text-align: center;}#sk-container-id-2 div.sk-container {/* jupyter's `normalize.less` sets `[hidden] { display: none; }` but bootstrap.min.css set `[hidden] { display: none !important; }` so we also need the `!important` here to be able to override the default hidden behavior on the sphinx rendered scikit-learn.org. See: https://github.com/scikit-learn/scikit-learn/issues/21755 */display: inline-block !important;position: relative;}#sk-container-id-2 div.sk-text-repr-fallback {display: none;}</style><div id=\"sk-container-id-2\" class=\"sk-top-container\"><div class=\"sk-text-repr-fallback\"><pre>GridSearchCV(cv=10, estimator=SVC(),\n",
              "             param_grid={&#x27;C&#x27;: (1, 10, 100), &#x27;gamma&#x27;: (0.1, 0.01, 0.001)},\n",
              "             verbose=10)</pre><b>In a Jupyter environment, please rerun this cell to show the HTML representation or trust the notebook. <br />On GitHub, the HTML representation is unable to render, please try loading this page with nbviewer.org.</b></div><div class=\"sk-container\" hidden><div class=\"sk-item sk-dashed-wrapped\"><div class=\"sk-label-container\"><div class=\"sk-label sk-toggleable\"><input class=\"sk-toggleable__control sk-hidden--visually\" id=\"sk-estimator-id-4\" type=\"checkbox\" ><label for=\"sk-estimator-id-4\" class=\"sk-toggleable__label sk-toggleable__label-arrow\">GridSearchCV</label><div class=\"sk-toggleable__content\"><pre>GridSearchCV(cv=10, estimator=SVC(),\n",
              "             param_grid={&#x27;C&#x27;: (1, 10, 100), &#x27;gamma&#x27;: (0.1, 0.01, 0.001)},\n",
              "             verbose=10)</pre></div></div></div><div class=\"sk-parallel\"><div class=\"sk-parallel-item\"><div class=\"sk-item\"><div class=\"sk-label-container\"><div class=\"sk-label sk-toggleable\"><input class=\"sk-toggleable__control sk-hidden--visually\" id=\"sk-estimator-id-5\" type=\"checkbox\" ><label for=\"sk-estimator-id-5\" class=\"sk-toggleable__label sk-toggleable__label-arrow\">estimator: SVC</label><div class=\"sk-toggleable__content\"><pre>SVC()</pre></div></div></div><div class=\"sk-serial\"><div class=\"sk-item\"><div class=\"sk-estimator sk-toggleable\"><input class=\"sk-toggleable__control sk-hidden--visually\" id=\"sk-estimator-id-6\" type=\"checkbox\" ><label for=\"sk-estimator-id-6\" class=\"sk-toggleable__label sk-toggleable__label-arrow\">SVC</label><div class=\"sk-toggleable__content\"><pre>SVC()</pre></div></div></div></div></div></div></div></div></div></div>"
            ]
          },
          "metadata": {},
          "execution_count": 25
        }
      ],
      "source": [
        "grid_search.fit(X_train, y_train)"
      ]
    },
    {
      "cell_type": "code",
      "execution_count": 26,
      "metadata": {
        "colab": {
          "base_uri": "https://localhost:8080/"
        },
        "id": "RNEOlAIe4Pvz",
        "outputId": "e8fa2b7c-07de-4c1a-b969-d668a9c630a6"
      },
      "outputs": [
        {
          "output_type": "execute_result",
          "data": {
            "text/plain": [
              "{'C': 10, 'gamma': 0.1}"
            ]
          },
          "metadata": {},
          "execution_count": 26
        }
      ],
      "source": [
        "grid_search.best_params_"
      ]
    },
    {
      "cell_type": "code",
      "execution_count": 27,
      "metadata": {
        "id": "iXjADa5n4Pv0"
      },
      "outputs": [],
      "source": [
        "svc = SVC(C=10, gamma=0.1).fit(X_train, y_train)"
      ]
    },
    {
      "cell_type": "code",
      "execution_count": 28,
      "metadata": {
        "colab": {
          "base_uri": "https://localhost:8080/"
        },
        "id": "4D91Hm0t4Pv0",
        "outputId": "0121eeef-589d-42d2-ab9c-6b43a579bb5a"
      },
      "outputs": [
        {
          "output_type": "execute_result",
          "data": {
            "text/plain": [
              "1.0"
            ]
          },
          "metadata": {},
          "execution_count": 28
        }
      ],
      "source": [
        "svc.score(X_test, y_test)"
      ]
    },
    {
      "cell_type": "code",
      "execution_count": 29,
      "metadata": {
        "id": "q_vAtaeR4Pv0"
      },
      "outputs": [],
      "source": [
        "y_pred = svc.predict(X_test)"
      ]
    },
    {
      "cell_type": "code",
      "execution_count": 30,
      "metadata": {
        "colab": {
          "base_uri": "https://localhost:8080/"
        },
        "id": "CZTCvfwM4Pv0",
        "outputId": "c4c2de86-6a05-42ec-89d5-86ef690f06b8"
      },
      "outputs": [
        {
          "output_type": "stream",
          "name": "stdout",
          "text": [
            "Confusion Matrix: \n",
            "[[19  0  0]\n",
            " [ 0 13  0]\n",
            " [ 0  0 13]]\n",
            "\n",
            "Classifiction Report :\n",
            "              precision    recall  f1-score   support\n",
            "\n",
            "           0       1.00      1.00      1.00        19\n",
            "           1       1.00      1.00      1.00        13\n",
            "           2       1.00      1.00      1.00        13\n",
            "\n",
            "    accuracy                           1.00        45\n",
            "   macro avg       1.00      1.00      1.00        45\n",
            "weighted avg       1.00      1.00      1.00        45\n",
            "\n"
          ]
        }
      ],
      "source": [
        "print(\"Confusion Matrix: \")\n",
        "print(confusion_matrix(y_test, y_pred))\n",
        "print()\n",
        "print(\"Classifiction Report :\")\n",
        "print(classification_report(y_test, y_pred))"
      ]
    }
  ],
  "metadata": {
    "kernelspec": {
      "display_name": "Python 3",
      "language": "python",
      "name": "python3"
    },
    "language_info": {
      "codemirror_mode": {
        "name": "ipython",
        "version": 3
      },
      "file_extension": ".py",
      "mimetype": "text/x-python",
      "name": "python",
      "nbconvert_exporter": "python",
      "pygments_lexer": "ipython3",
      "version": "3.6.5"
    },
    "colab": {
      "provenance": []
    }
  },
  "nbformat": 4,
  "nbformat_minor": 0
}