{
  "nbformat": 4,
  "nbformat_minor": 0,
  "metadata": {
    "colab": {
      "provenance": [],
      "authorship_tag": "ABX9TyNx1mY+RHAXBZ8NGqzGfgly",
      "include_colab_link": true
    },
    "kernelspec": {
      "name": "python3",
      "display_name": "Python 3"
    },
    "language_info": {
      "name": "python"
    }
  },
  "cells": [
    {
      "cell_type": "markdown",
      "metadata": {
        "id": "view-in-github",
        "colab_type": "text"
      },
      "source": [
        "<a href=\"https://colab.research.google.com/github/TALAOUI/Introduction-to-the-basics-of-AI---2025/blob/main/Introduction_to_the_basics_of_AI_PRACTICE.ipynb\" target=\"_parent\"><img src=\"https://colab.research.google.com/assets/colab-badge.svg\" alt=\"Open In Colab\"/></a>"
      ]
    },
    {
      "cell_type": "markdown",
      "source": [
        "## Go to https://www.kaggle.com/datasets?tags=13302-Classification"
      ],
      "metadata": {
        "id": "L893lAkRXL_f"
      }
    },
    {
      "cell_type": "markdown",
      "source": [
        "# Choose a classification dataset that is not too big and where the data seems nice to you"
      ],
      "metadata": {
        "id": "nJJDxYudXXVU"
      }
    },
    {
      "cell_type": "markdown",
      "source": [],
      "metadata": {
        "id": "quRvhEURYORr"
      }
    },
    {
      "cell_type": "markdown",
      "source": [
        "# Look if you need a GPU and activate it on Google Colab"
      ],
      "metadata": {
        "id": "3xTrA_OqXbXi"
      }
    },
    {
      "cell_type": "markdown",
      "source": [
        "# Now describe the data and formulate a question that is going to be solved using AI tools we have seen together\n",
        "\n",
        "## What is the nature of the variables ?\n",
        ".............\n",
        "\n",
        "## Can you comment on the required complexity ? Can you use any visualization tools to this purpose ?\n",
        ".............\n",
        "\n",
        "## What kind of model would you choose ?\n",
        "...............\n",
        "\n",
        "## Is it supervised ?\n",
        "...............\n",
        "\n",
        "## What pre-processings do you think are necessary ?\n",
        "..............\n",
        "\n",
        "## What statistical tests do you think are relevant ?\n",
        ".............."
      ],
      "metadata": {
        "id": "Kh5a2FEKXv3D"
      }
    },
    {
      "cell_type": "markdown",
      "source": [
        "# Import libraries"
      ],
      "metadata": {
        "id": "yhrG_u-BX3SP"
      }
    },
    {
      "cell_type": "code",
      "source": [],
      "metadata": {
        "id": "fw50rPIcYvE3"
      },
      "execution_count": null,
      "outputs": []
    },
    {
      "cell_type": "markdown",
      "source": [
        "# Import the data"
      ],
      "metadata": {
        "id": "IzSY-imuYtNT"
      }
    },
    {
      "cell_type": "code",
      "source": [],
      "metadata": {
        "id": "sBO3-OzSYviJ"
      },
      "execution_count": null,
      "outputs": []
    },
    {
      "cell_type": "markdown",
      "source": [
        "# Visualize"
      ],
      "metadata": {
        "id": "wt0mvsGHdrMF"
      }
    },
    {
      "cell_type": "code",
      "source": [],
      "metadata": {
        "id": "qRLp0V-Pdsyr"
      },
      "execution_count": null,
      "outputs": []
    },
    {
      "cell_type": "markdown",
      "source": [
        "# Preprocessings"
      ],
      "metadata": {
        "id": "AfHbtFsBYwwG"
      }
    },
    {
      "cell_type": "code",
      "source": [],
      "metadata": {
        "id": "JPKmvuaHZcKY"
      },
      "execution_count": null,
      "outputs": []
    },
    {
      "cell_type": "markdown",
      "source": [
        "# Train/test split"
      ],
      "metadata": {
        "id": "3ICgCj3vZgA_"
      }
    },
    {
      "cell_type": "code",
      "source": [],
      "metadata": {
        "id": "1EVD0CDLZjkd"
      },
      "execution_count": null,
      "outputs": []
    },
    {
      "cell_type": "markdown",
      "source": [
        "# Create/Call AI Model"
      ],
      "metadata": {
        "id": "oyDH4q-QZkM2"
      }
    },
    {
      "cell_type": "code",
      "source": [],
      "metadata": {
        "id": "beKiCdstZooK"
      },
      "execution_count": null,
      "outputs": []
    },
    {
      "cell_type": "markdown",
      "source": [
        "# Train the model"
      ],
      "metadata": {
        "id": "vwA4sAS3ZqPF"
      }
    },
    {
      "cell_type": "code",
      "source": [],
      "metadata": {
        "id": "pSso3Rw3Zssr"
      },
      "execution_count": null,
      "outputs": []
    },
    {
      "cell_type": "markdown",
      "source": [
        "# Compte Accuracy"
      ],
      "metadata": {
        "id": "usSi2RxQZwDE"
      }
    },
    {
      "cell_type": "code",
      "source": [],
      "metadata": {
        "id": "t23dtTnWZyNb"
      },
      "execution_count": null,
      "outputs": []
    },
    {
      "cell_type": "markdown",
      "source": [
        "# Can you explain the importance of variables ?\n",
        "................"
      ],
      "metadata": {
        "id": "ShRZ23luZ4TA"
      }
    },
    {
      "cell_type": "markdown",
      "source": [
        "# Can you comment on the robustness of your model ?\n",
        "............"
      ],
      "metadata": {
        "id": "od6d0Iy0aL0A"
      }
    }
  ]
}